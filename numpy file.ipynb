{
 "cells": [
  {
   "cell_type": "markdown",
   "metadata": {},
   "source": []
  },
  {
   "cell_type": "code",
   "execution_count": 1,
   "metadata": {},
   "outputs": [],
   "source": [
    "import numpy as np\n",
    "\n",
    "# Create the first 1-dimensional array\n"
   ]
  },
  {
   "cell_type": "code",
   "execution_count": 2,
   "metadata": {},
   "outputs": [
    {
     "name": "stdout",
     "output_type": "stream",
     "text": [
      "[[[ 0  1  2  3]\n",
      "  [ 4  5  6  7]]\n",
      "\n",
      " [[ 8  9 10 11]\n",
      "  [12 13 14 15]]]\n",
      "(2, 2, 4)\n",
      "3\n",
      "16\n",
      "int32\n",
      "4\n",
      "64\n",
      "[[[ 0  8]\n",
      "  [ 4 12]]\n",
      "\n",
      " [[ 1  9]\n",
      "  [ 5 13]]\n",
      "\n",
      " [[ 2 10]\n",
      "  [ 6 14]]\n",
      "\n",
      " [[ 3 11]\n",
      "  [ 7 15]]]\n",
      "[[[ 0  1  2  3]\n",
      "  [ 4  5  6  7]]\n",
      "\n",
      " [[ 8  9 10 11]\n",
      "  [12 13 14 15]]]\n",
      "[[[0 0 0 0]\n",
      "  [0 0 0 0]]\n",
      "\n",
      " [[0 0 0 0]\n",
      "  [0 0 0 0]]]\n",
      "<numpy.flatiter object at 0x0000018CCD544450>\n",
      "<numpy.core._internal._ctypes object at 0x0000018CCD316B50>\n",
      "<class 'numpy.ndarray'>\n",
      "[6 7 8]\n"
     ]
    },
    {
     "data": {
      "text/plain": [
       "numpy.ndarray"
      ]
     },
     "execution_count": 2,
     "metadata": {},
     "output_type": "execute_result"
    }
   ],
   "source": [
    "a = np.arange(16).reshape(2, 2, 4)\n",
    "print(a)\n",
    "\n",
    "print(a.shape)\n",
    "\n",
    "print(a.ndim)\n",
    "\n",
    "print(a.size)\n",
    "\n",
    "print(a.dtype.name)\n",
    "\n",
    "print(a.itemsize) #size of each element\n",
    "\n",
    "print(a.nbytes) #total size of the array equals itemsize into size\n",
    "\n",
    "print(a.T) #transpose\n",
    "\n",
    "print(a.real) #ral numbers\n",
    "\n",
    "print(a.imag) #imaginary numbers\n",
    "\n",
    "print(a.flat) #A 1-D iterator over the array.\n",
    "\n",
    "print(a.ctypes) #An object to simplify the interaction of the array with ctypes.\n",
    "\n",
    "print(type(a))\n",
    "\n",
    "b = np.array([6, 7, 8])\n",
    "print(b)\n",
    "\n",
    "type(b)\n"
   ]
  },
  {
   "cell_type": "markdown",
   "metadata": {},
   "source": [
    "Array Creation"
   ]
  },
  {
   "cell_type": "code",
   "execution_count": 3,
   "metadata": {},
   "outputs": [
    {
     "name": "stdout",
     "output_type": "stream",
     "text": [
      "[2 3 4]\n",
      "int32\n",
      "float64\n",
      "[[1.5 2.  3. ]\n",
      " [4.  5.  6. ]]\n",
      "float64\n",
      "[[1.5 2.  3. ]\n",
      " [4.  5.  6. ]\n",
      " [7.  8.  9. ]]\n",
      "float64\n",
      "complex128\n",
      "[0.         1.57079633 3.14159265]\n",
      "float64\n"
     ]
    }
   ],
   "source": [
    "import numpy as np\n",
    "from numpy import pi\n",
    "b = np.array([2, 3, 4])\n",
    "\n",
    "print(b)\n",
    "print(b.dtype)\n",
    "\n",
    "c = np.array([1.2, 3.5, 5.1])\n",
    "print(c.dtype)\n",
    "\n",
    "d = np.array([(1.5, 2, 3), (4, 5, 6)])\n",
    "print(d)\n",
    "print(d.dtype)\n",
    "\n",
    "e = np.array([(1.5, 2, 3), (4, 5, 6), (7,8,9)])\n",
    "print(e)\n",
    "print(e.dtype)\n",
    "\n",
    "#The type of the array can also be explicitly specified at creation time:\n",
    "\n",
    "f = np.array([[1, 2], [3, 4]], dtype=complex)\n",
    "print(f.dtype)\n",
    "\n",
    "array3 = np.linspace(0, pi, 3)\n",
    "print(array3)\n",
    "print(array3.dtype.name)"
   ]
  },
  {
   "cell_type": "code",
   "execution_count": 35,
   "metadata": {},
   "outputs": [
    {
     "name": "stdout",
     "output_type": "stream",
     "text": [
      "[[0 1 2]\n",
      " [1 2 3]\n",
      " [2 3 4]]\n"
     ]
    }
   ],
   "source": [
    "\n",
    "\n",
    "# Define a function to generate values\n",
    "def func(i, j):\n",
    "    return i + j\n",
    "\n",
    "# Create a 3x3 array using the function\n",
    "array_from_func = np.fromfunction(func, (3, 3), dtype=int)\n",
    "print(array_from_func)\n"
   ]
  },
  {
   "cell_type": "code",
   "execution_count": 36,
   "metadata": {},
   "outputs": [
    {
     "name": "stdout",
     "output_type": "stream",
     "text": [
      "[0. 1. 2. 3. 4. 5. 6. 7. 8. 9.]\n"
     ]
    }
   ],
   "source": [
    "# First, create a binary file for demonstration purposes\n",
    "data = np.arange(10, dtype=np.float32)\n",
    "data.tofile('data.bin')\n",
    "\n",
    "# Now, read the binary file into an array\n",
    "array_from_file = np.fromfile('data.bin', dtype=np.float32)\n",
    "print(array_from_file)\n"
   ]
  },
  {
   "cell_type": "code",
   "execution_count": 37,
   "metadata": {},
   "outputs": [
    {
     "name": "stdout",
     "output_type": "stream",
     "text": [
      "[1 2 3 4]\n"
     ]
    }
   ],
   "source": [
    "# Create a buffer object (e.g., bytes)\n",
    "buffer = b'\\x01\\x02\\x03\\x04'\n",
    "\n",
    "# Create an array from the buffer\n",
    "array_from_buffer = np.frombuffer(buffer, dtype=np.uint8)\n",
    "print(array_from_buffer)\n"
   ]
  },
  {
   "cell_type": "code",
   "execution_count": 38,
   "metadata": {},
   "outputs": [
    {
     "name": "stdout",
     "output_type": "stream",
     "text": [
      "[1 2 3 4]\n"
     ]
    }
   ],
   "source": [
    "# Create a string of bytes\n",
    "byte_string = b'1 2 3 4'\n",
    "\n",
    "# Create an array from the string\n",
    "array_from_string = np.fromstring(byte_string, dtype=int, sep=' ')\n",
    "print(array_from_string)\n"
   ]
  },
  {
   "cell_type": "code",
   "execution_count": 4,
   "metadata": {},
   "outputs": [
    {
     "name": "stdout",
     "output_type": "stream",
     "text": [
      "[[0. 0. 0. 0.]\n",
      " [0. 0. 0. 0.]\n",
      " [0. 0. 0. 0.]] [[[1 1 1 1]\n",
      "  [1 1 1 1]\n",
      "  [1 1 1 1]]\n",
      "\n",
      " [[1 1 1 1]\n",
      "  [1 1 1 1]\n",
      "  [1 1 1 1]]] [[1.5 2.  3. ]\n",
      " [4.  5.  6. ]]\n"
     ]
    }
   ],
   "source": [
    "g = np.zeros((3, 4))\n",
    "h = np.ones((2, 3, 4), dtype=np.int16)\n",
    "i = np.empty((2, 3)) \n",
    "#i = np.full((2, 3)) \n",
    "#Creating arrays from existing data: using fromfunction(), fromfile(), frombuffer(), and fromstring()\n",
    "print(g,h,i)"
   ]
  },
  {
   "cell_type": "code",
   "execution_count": 5,
   "metadata": {},
   "outputs": [
    {
     "name": "stdout",
     "output_type": "stream",
     "text": [
      "[[[ 0  1  2  3]\n",
      "  [ 4  5  6  7]\n",
      "  [ 8  9 10 11]]\n",
      "\n",
      " [[12 13 14 15]\n",
      "  [16 17 18 19]\n",
      "  [20 21 22 23]]]\n",
      "[10 15 20 25] [0.  0.3 0.6 0.9 1.2 1.5 1.8]\n"
     ]
    }
   ],
   "source": [
    "j = np.arange(10, 30, 5)\n",
    "\n",
    "k = np.arange(0, 2, 0.3) \n",
    "\n",
    "l = np.arange(24).reshape(2, 3, 4)  # 3d array\n",
    "print(l)\n",
    "print(j,k)"
   ]
  },
  {
   "cell_type": "markdown",
   "metadata": {},
   "source": [
    "Basic Operations"
   ]
  },
  {
   "cell_type": "markdown",
   "metadata": {},
   "source": [
    "Arithmetic Operations"
   ]
  },
  {
   "cell_type": "code",
   "execution_count": 6,
   "metadata": {},
   "outputs": [
    {
     "name": "stdout",
     "output_type": "stream",
     "text": [
      "[20 29 38 47]\n",
      "[0 1 4 9]\n"
     ]
    }
   ],
   "source": [
    "a = np.array([20, 30, 40, 50])\n",
    "b = np.arange(4)\n",
    "c = a - b\n",
    "print(c)\n",
    "d = b**2\n",
    "print(d)"
   ]
  },
  {
   "cell_type": "code",
   "execution_count": 7,
   "metadata": {},
   "outputs": [
    {
     "name": "stdout",
     "output_type": "stream",
     "text": [
      "Array 1: [1 2 3 4 5]\n",
      "Array 2: [ 6  7  8  9 10]\n",
      "[6, 14, 24, 36, 50]\n",
      "[ 6 14 24 36 50]\n",
      "[6.         3.5        2.66666667 2.25       2.        ]\n",
      "[0 1 2 1 0]\n",
      "[     6     49    512   6561 100000]\n"
     ]
    }
   ],
   "source": [
    "array1 = np.array([1, 2, 3, 4, 5])\n",
    "\n",
    "# Create the second 1-dimensional array\n",
    "array2 = np.array([6, 7, 8, 9, 10])\n",
    "\n",
    "print(\"Array 1:\", array1)\n",
    "print(\"Array 2:\", array2)\n",
    "c = []\n",
    "for i in range(len(array1)):\n",
    "    c.append(array1[i]*array2[i])\n",
    "\n",
    "d = array2*array1\n",
    "f = array2/array1\n",
    "g = array2%array1\n",
    "h = array2**array1\n",
    "print(c)\n",
    "print(d)\n",
    "print(f)\n",
    "print(g)\n",
    "print(h)"
   ]
  },
  {
   "cell_type": "markdown",
   "metadata": {},
   "source": [
    "Unary Operations:"
   ]
  },
  {
   "cell_type": "code",
   "execution_count": 8,
   "metadata": {},
   "outputs": [
    {
     "name": "stdout",
     "output_type": "stream",
     "text": [
      "40\n",
      "6\n",
      "10\n",
      "[ 6 13 21 30 40]\n"
     ]
    }
   ],
   "source": [
    "print(array2.sum())\n",
    "print(array2.min())\n",
    "print(array2.max())\n",
    "print(array2.cumsum())"
   ]
  },
  {
   "cell_type": "markdown",
   "metadata": {},
   "source": [
    "Statistical Operations"
   ]
  },
  {
   "cell_type": "code",
   "execution_count": 9,
   "metadata": {},
   "outputs": [
    {
     "name": "stdout",
     "output_type": "stream",
     "text": [
      "8.0\n",
      "1.4142135623730951\n",
      "2.0\n"
     ]
    }
   ],
   "source": [
    "print(array2.mean())\n",
    "print(array2.std())\n",
    "print(array2.var())"
   ]
  },
  {
   "cell_type": "markdown",
   "metadata": {},
   "source": [
    "Comparison Operations:\n",
    "\n"
   ]
  },
  {
   "cell_type": "code",
   "execution_count": 10,
   "metadata": {},
   "outputs": [
    {
     "name": "stdout",
     "output_type": "stream",
     "text": [
      "[ True  True  True  True  True]\n",
      "[False False False False False]\n",
      "True\n",
      "True\n",
      "[ 1  2  3  4  5  6  7  8  9 10]\n",
      "[[ 1  2  3  4  5]\n",
      " [ 6  7  8  9 10]]\n",
      "[ 1  2  3  4  5  6  7  8  9 10]\n",
      "[array([6, 7]), array([ 8,  9, 10])]\n",
      "[array([6, 7, 8]), array([ 9, 10])]\n"
     ]
    }
   ],
   "source": [
    "print(array2 > array1)\n",
    "print(array1 == array2)\n",
    "print(array2.any()) #Any true elements\n",
    "print(array1.all()) #All true elements\n",
    "\n",
    "#Stacking together different arrays\n",
    "print(np.concatenate((array1, array2)))\n",
    "print(np.vstack((array1, array2)))\n",
    "print(np.hstack((array1, array2)))\n",
    "print(np.split(array2, [2] ))\n",
    "print(np.hsplit(array2, [3]))\n",
    "#print(np.vsplit(array2, [4]))"
   ]
  },
  {
   "cell_type": "code",
   "execution_count": 11,
   "metadata": {},
   "outputs": [
    {
     "name": "stdout",
     "output_type": "stream",
     "text": [
      "[[2 0]\n",
      " [0 4]]\n",
      "[[5 4]\n",
      " [3 4]]\n",
      "130\n"
     ]
    },
    {
     "data": {
      "text/plain": [
       "array([[5, 4],\n",
       "       [3, 4]])"
      ]
     },
     "execution_count": 11,
     "metadata": {},
     "output_type": "execute_result"
    }
   ],
   "source": [
    "A = np.array([[1, 1],\n",
    "              [0, 1]])\n",
    "B = np.array([[2, 0],\n",
    "              [3, 4]])\n",
    "print(A * B)     # elementwise product\n",
    "\n",
    "print(A @ B)     # matrix product\n",
    "print(np.dot(array1, array2)) #dot product\n",
    "A.dot(B)  # another matrix product\n"
   ]
  },
  {
   "cell_type": "markdown",
   "metadata": {},
   "source": [
    "Indexing and Slicing:"
   ]
  },
  {
   "cell_type": "code",
   "execution_count": 12,
   "metadata": {},
   "outputs": [
    {
     "name": "stdout",
     "output_type": "stream",
     "text": [
      "[8 9]\n",
      "[ 8 10]\n",
      "[ 8  9 10]\n",
      "[6 7 8]\n",
      "[ 6  8 10]\n",
      "[10  9  8  7  6]\n",
      "1.8171205928321397\n",
      "1.912931182772389\n",
      "2.0\n",
      "2.080083823051904\n",
      "2.154434690031884\n"
     ]
    }
   ],
   "source": [
    "print(array2[2:4])\n",
    "print(array2[2:5:2])\n",
    "print(array2[array2 > 7])\n",
    "print(array2[[0, 1, 2]])\n",
    "\n",
    "print(array2[:6:2])\n",
    "\n",
    "print(array2[::-1])\n",
    "\n",
    "for i in array2:\n",
    "    print(i**(1 / 3.))"
   ]
  },
  {
   "cell_type": "markdown",
   "metadata": {},
   "source": [
    "Indexing and Slicing: 2D ARRAY"
   ]
  },
  {
   "cell_type": "code",
   "execution_count": 13,
   "metadata": {},
   "outputs": [
    {
     "name": "stdout",
     "output_type": "stream",
     "text": [
      "[[ 0  1  2  3]\n",
      " [10 11 12 13]\n",
      " [20 21 22 23]\n",
      " [30 31 32 33]\n",
      " [40 41 42 43]]\n",
      "23\n",
      "[ 1 11 21 31 41]\n",
      "[ 1 11 21 31 41]\n",
      "[[10 11 12 13]\n",
      " [20 21 22 23]]\n",
      "[40 41 42 43]\n"
     ]
    }
   ],
   "source": [
    "def f(x, y):\n",
    "    return 10 * x + y\n",
    "\n",
    "b = np.fromfunction(f, (5, 4), dtype=int)\n",
    "print(b)\n",
    "\n",
    "print(b[2, 3])\n",
    "print(b[0:5, 1]) # each row in the second column of b\n",
    "print(b[:, 1])    # equivalent to the previous example\n",
    "print(b[1:3, :])  # each column in the second and third row of b\n",
    "print(b[-1])   # the last row. Equivalent to b[-1, :]\n"
   ]
  },
  {
   "cell_type": "markdown",
   "metadata": {},
   "source": [
    "Indexing and Slicing: 3D ARRAY"
   ]
  },
  {
   "cell_type": "code",
   "execution_count": 14,
   "metadata": {},
   "outputs": [
    {
     "name": "stdout",
     "output_type": "stream",
     "text": [
      "(2, 2, 3)\n",
      "[[100 101 102]\n",
      " [110 112 113]]\n",
      "[[100 101 102]\n",
      " [110 112 113]]\n",
      "[[100 101 102]\n",
      " [110 112 113]]\n",
      "[[  2  13]\n",
      " [102 113]]\n",
      "[[  2  13]\n",
      " [102 113]]\n"
     ]
    }
   ],
   "source": [
    "c = np.array([[[  0,  1,  2],  # a 3D array (two stacked 2D arrays)\n",
    "               [ 10, 12, 13]],\n",
    "              [[100, 101, 102],\n",
    "               [110, 112, 113]]])\n",
    "print(c.shape)\n",
    "#2nd array to print\n",
    "print(c[1, ...])  \n",
    "print(c[1, :, :]) \n",
    "print(c[1])\n",
    "\n",
    "print(c[..., 2])  \n",
    "print(c[:, :, 2])\n"
   ]
  },
  {
   "cell_type": "markdown",
   "metadata": {},
   "source": [
    "Iterating over multidimensional arrays"
   ]
  },
  {
   "cell_type": "code",
   "execution_count": 15,
   "metadata": {},
   "outputs": [
    {
     "name": "stdout",
     "output_type": "stream",
     "text": [
      "[0 1 2 3]\n",
      "[10 11 12 13]\n",
      "[20 21 22 23]\n",
      "[30 31 32 33]\n",
      "[40 41 42 43]\n",
      "0\n",
      "1\n",
      "2\n",
      "3\n",
      "10\n",
      "11\n",
      "12\n",
      "13\n",
      "20\n",
      "21\n",
      "22\n",
      "23\n",
      "30\n",
      "31\n",
      "32\n",
      "33\n",
      "40\n",
      "41\n",
      "42\n",
      "43\n"
     ]
    }
   ],
   "source": [
    "for row in b:\n",
    "    print(row)\n",
    "\n",
    "for element in b.flat:\n",
    "    print(element)"
   ]
  },
  {
   "cell_type": "code",
   "execution_count": 16,
   "metadata": {},
   "outputs": [
    {
     "name": "stdout",
     "output_type": "stream",
     "text": [
      "1\n",
      "5\n",
      "[2 3 4]\n",
      "[1 2 3]\n",
      "[3 4 5]\n"
     ]
    }
   ],
   "source": [
    "\n",
    "# Creating a 1D array\n",
    "array_1d = np.array([1, 2, 3, 4, 5])\n",
    "\n",
    "# Accessing elements by index\n",
    "print(array_1d[0])  # Output: 1\n",
    "print(array_1d[-1])  # Output: 5\n",
    "\n",
    "# Slicing\n",
    "print(array_1d[1:4])  # Output: [2 3 4]\n",
    "print(array_1d[:3])   # Output: [1 2 3]\n",
    "print(array_1d[2:])   # Output: [3 4 5]\n"
   ]
  },
  {
   "cell_type": "code",
   "execution_count": 17,
   "metadata": {},
   "outputs": [
    {
     "name": "stdout",
     "output_type": "stream",
     "text": [
      "1\n",
      "6\n",
      "[2 3]\n",
      "[[1 2]\n",
      " [4 5]]\n"
     ]
    }
   ],
   "source": [
    "# Creating a 2D array\n",
    "array_2d = np.array([[1, 2, 3],\n",
    "                     [4, 5, 6],\n",
    "                     [7, 8, 9]])\n",
    "\n",
    "# Accessing elements by index\n",
    "print(array_2d[0, 0])  # Output: 1\n",
    "print(array_2d[1, 2])  # Output: 6\n",
    "\n",
    "# Slicing\n",
    "print(array_2d[0, 1:])  # Output: [2 3]\n",
    "print(array_2d[:2, :2]) # Output: [[1 2]\n",
    "                        #          [4 5]]\n"
   ]
  },
  {
   "cell_type": "markdown",
   "metadata": {},
   "source": [
    "Random and Linspace"
   ]
  },
  {
   "cell_type": "code",
   "execution_count": 18,
   "metadata": {},
   "outputs": [
    {
     "name": "stdout",
     "output_type": "stream",
     "text": [
      "[[3 3 3]\n",
      " [3 3 3]]\n",
      "[[3.51182162 3.9504637  3.14415961]\n",
      " [3.94864945 3.31183145 3.42332645]]\n"
     ]
    }
   ],
   "source": [
    "rg = np.random.default_rng(1)  # create instance of default random number generator\n",
    "a = np.ones((2, 3), dtype=int)\n",
    "b = rg.random((2, 3))\n",
    "a *= 3\n",
    "print(a)\n",
    "b += a\n",
    "print(b)"
   ]
  },
  {
   "cell_type": "code",
   "execution_count": 19,
   "metadata": {},
   "outputs": [
    {
     "name": "stdout",
     "output_type": "stream",
     "text": [
      "[1 1 1] [0.         1.57079633 3.14159265]\n",
      "float64\n",
      "[1.         2.57079633 4.14159265]\n",
      "[ 0.54030231+0.84147098j -0.84147098+0.54030231j -0.54030231-0.84147098j]\n",
      "complex128\n"
     ]
    }
   ],
   "source": [
    "from numpy import pi\n",
    "a = np.ones(3, dtype=np.int32)\n",
    "b = np.linspace(0, pi, 3)\n",
    "print(a,b)\n",
    "print(b.dtype.name)\n",
    "\n",
    "c = a + b\n",
    "c\n",
    "print(c)\n",
    "c.dtype.name\n",
    "\n",
    "d = np.exp(c * 1j)\n",
    "print(d)\n",
    "print(d.dtype.name)"
   ]
  },
  {
   "cell_type": "markdown",
   "metadata": {},
   "source": [
    "Universal Functions"
   ]
  },
  {
   "cell_type": "code",
   "execution_count": 20,
   "metadata": {},
   "outputs": [
    {
     "name": "stdout",
     "output_type": "stream",
     "text": [
      "[0 1 2]\n",
      "[1.         2.71828183 7.3890561 ]\n",
      "[0.         1.         1.41421356]\n",
      "[2. 0. 6.]\n"
     ]
    }
   ],
   "source": [
    "B = np.arange(3)\n",
    "print(B)\n",
    "\n",
    "print(np.exp(B))\n",
    "print(np.sqrt(B))\n",
    "C = np.array([2., -1., 4.])\n",
    "print(np.add(B, C))\n"
   ]
  },
  {
   "cell_type": "code",
   "execution_count": 21,
   "metadata": {},
   "outputs": [
    {
     "name": "stdout",
     "output_type": "stream",
     "text": [
      "[[ 0  1  2  3]\n",
      " [ 4  5  6  7]\n",
      " [ 8  9 10 11]]\n",
      "[12 15 18 21]\n",
      "[0 4 8]\n",
      "[[ 0  1  3  6]\n",
      " [ 4  9 15 22]\n",
      " [ 8 17 27 38]]\n"
     ]
    }
   ],
   "source": [
    "b = np.arange(12).reshape(3, 4)\n",
    "print(b)\n",
    "\n",
    "print(b.sum(axis=0))     # sum of each column\n",
    "\n",
    "print(b.min(axis=1))     # min of each row\n",
    "\n",
    "print(b.cumsum(axis=1))  # cumulative sum along each row"
   ]
  },
  {
   "cell_type": "code",
   "execution_count": 22,
   "metadata": {},
   "outputs": [
    {
     "name": "stdout",
     "output_type": "stream",
     "text": [
      "[[0.82770259 0.40919914 0.54959369]\n",
      " [0.02755911 0.75351311 0.53814331]]\n",
      "3.1057109529998157\n",
      "0.027559113243068367\n",
      "0.8277025938204418\n"
     ]
    }
   ],
   "source": [
    "a = rg.random((2, 3))\n",
    "print(a)\n",
    "\n",
    "print(a.sum())\n",
    "\n",
    "print(a.min())\n",
    "\n",
    "print(a.max())\n"
   ]
  },
  {
   "cell_type": "markdown",
   "metadata": {},
   "source": [
    "Changing the shape of an array"
   ]
  },
  {
   "cell_type": "code",
   "execution_count": 23,
   "metadata": {},
   "outputs": [
    {
     "name": "stdout",
     "output_type": "stream",
     "text": [
      "[[3. 7. 3. 4.]\n",
      " [1. 4. 2. 2.]\n",
      " [7. 2. 4. 9.]]\n",
      "(3, 4)\n",
      "[3. 7. 3. 4. 1. 4. 2. 2. 7. 2. 4. 9.]\n",
      "[[3. 7.]\n",
      " [3. 4.]\n",
      " [1. 4.]\n",
      " [2. 2.]\n",
      " [7. 2.]\n",
      " [4. 9.]]\n"
     ]
    }
   ],
   "source": [
    "a = np.floor(10 * rg.random((3, 4)))\n",
    "print(a)\n",
    "print(a.shape)\n",
    "print(a.ravel())  # returns the array, flattened\n",
    "\n",
    "print(a.reshape(6, 2))  # returns the array with a modified shape\n",
    "\n",
    "#The reshape function returns its argument with a modified shape, whereas the ndarray.resize method modifies the array itself:\n"
   ]
  },
  {
   "cell_type": "code",
   "execution_count": 30,
   "metadata": {},
   "outputs": [
    {
     "name": "stdout",
     "output_type": "stream",
     "text": [
      "[[1. 6. 3. 7.]\n",
      " [6. 4. 8. 6.]\n",
      " [8. 3. 5. 1.]]\n",
      "[[2 6]]\n",
      "[[4. 3.]\n",
      " [2. 8.]]\n",
      "[[4. 2.]\n",
      " [3. 8.]]\n",
      "[4. 2. 3. 8.]\n",
      "[array([4., 2.]), array([], dtype=float64)]\n",
      "[array([4., 2.]), array([], dtype=float64)]\n",
      "[[[1. 6. 3. 7.]]\n",
      "\n",
      " [[6. 4. 8. 6.]]\n",
      "\n",
      " [[8. 3. 5. 1.]]]\n"
     ]
    }
   ],
   "source": [
    "from numpy import newaxis\n",
    "a = np.floor(10 * rg.random((3, 4)))\n",
    "print(a)\n",
    "print(np.column_stack((2, 6)))  # with 2D arrays\n",
    "\n",
    "c = np.array([4., 2.])\n",
    "b = np.array([3., 8.])\n",
    "print(np.column_stack((c, b)))  # returns a 2D array\n",
    "\n",
    "print(np.vstack((c, b)))\n",
    "print(np.hstack((c, b)))\n",
    "print(np.split(c, [2] ))\n",
    "print(np.hsplit(c, [3]))\n",
    "\n",
    "print(a[:, newaxis]) # view `a` as a 2D column vector\n",
    "\n",
    "#np.row_stack is same as np.vstack\n"
   ]
  },
  {
   "cell_type": "markdown",
   "metadata": {},
   "source": [
    "Stacking together different arrays"
   ]
  },
  {
   "cell_type": "code",
   "execution_count": 32,
   "metadata": {},
   "outputs": [
    {
     "name": "stdout",
     "output_type": "stream",
     "text": [
      "[[3. 4.]\n",
      " [6. 4.]]\n",
      "[[5. 8.]\n",
      " [7. 3.]]\n",
      "[[3. 4.]\n",
      " [6. 4.]\n",
      " [5. 8.]\n",
      " [7. 3.]]\n",
      "[[3. 4. 5. 8.]\n",
      " [6. 4. 7. 3.]]\n"
     ]
    }
   ],
   "source": [
    "a = np.floor(10 * rg.random((2, 2)))\n",
    "b = np.floor(10 * rg.random((2, 2)))\n",
    "print(a)\n",
    "print(b)\n",
    "print(np.vstack((a, b)))\n",
    "print(np.hstack((a, b)))"
   ]
  },
  {
   "cell_type": "markdown",
   "metadata": {},
   "source": [
    "Splitting one array into several smaller ones"
   ]
  },
  {
   "cell_type": "code",
   "execution_count": 34,
   "metadata": {},
   "outputs": [
    {
     "name": "stdout",
     "output_type": "stream",
     "text": [
      "[[5. 1. 9. 4. 2. 8. 1. 7. 1. 3. 2. 8.]\n",
      " [3. 9. 6. 6. 5. 3. 3. 9. 2. 9. 7. 3.]]\n",
      "[array([[5., 1., 9., 4.],\n",
      "       [3., 9., 6., 6.]]), array([[2., 8., 1., 7.],\n",
      "       [5., 3., 3., 9.]]), array([[1., 3., 2., 8.],\n",
      "       [2., 9., 7., 3.]])]\n",
      "[array([[5., 1., 9.],\n",
      "       [3., 9., 6.]]), array([[4.],\n",
      "       [6.]]), array([[2., 8., 1., 7., 1., 3., 2., 8.],\n",
      "       [5., 3., 3., 9., 2., 9., 7., 3.]])]\n"
     ]
    }
   ],
   "source": [
    "a = np.floor(10 * rg.random((2, 12)))\n",
    "print(a)\n",
    "print(np.hsplit(a, 3)) # Split `a` into 3\n",
    "print(np.hsplit(a, (3, 4))) # Split `a` after the third and the fourth column"
   ]
  },
  {
   "cell_type": "markdown",
   "metadata": {},
   "source": [
    "Copies and Views"
   ]
  },
  {
   "cell_type": "code",
   "execution_count": 39,
   "metadata": {},
   "outputs": [
    {
     "data": {
      "text/plain": [
       "True"
      ]
     },
     "execution_count": 39,
     "metadata": {},
     "output_type": "execute_result"
    }
   ],
   "source": [
    "a = np.array([[ 0,  1,  2,  3],\n",
    "              [ 4,  5,  6,  7],\n",
    "              [ 8,  9, 10, 11]])\n",
    "b = a            # no new object is created\n",
    "b is a           # a and b are two names for the same ndarray object"
   ]
  },
  {
   "cell_type": "code",
   "execution_count": 40,
   "metadata": {},
   "outputs": [
    {
     "data": {
      "text/plain": [
       "1704267210000"
      ]
     },
     "execution_count": 40,
     "metadata": {},
     "output_type": "execute_result"
    }
   ],
   "source": [
    "def f(x):\n",
    "    print(id(x))\n",
    "\n",
    "id(a)  # id is a unique identifier of an object "
   ]
  },
  {
   "cell_type": "markdown",
   "metadata": {},
   "source": [
    "View or Shallow Copy"
   ]
  },
  {
   "cell_type": "code",
   "execution_count": 45,
   "metadata": {},
   "outputs": [
    {
     "name": "stdout",
     "output_type": "stream",
     "text": [
      "[[ 0  1  2  3  4  5]\n",
      " [ 6  7  8  9 10 11]]\n"
     ]
    }
   ],
   "source": [
    "c = a.view()\n",
    "c is a\n",
    "\n",
    "c.base is a            # c is a view of the data owned by a\n",
    "\n",
    "c.flags.owndata\n",
    "\n",
    "c = c.reshape((2, 6))  # a's shape doesn't change\n",
    "print(c)"
   ]
  },
  {
   "cell_type": "code",
   "execution_count": 46,
   "metadata": {},
   "outputs": [
    {
     "name": "stdout",
     "output_type": "stream",
     "text": [
      "[[ 0 10 10  3]\n",
      " [ 4 10 10  7]\n",
      " [ 8 10 10 11]]\n"
     ]
    }
   ],
   "source": [
    "s = a[:, 1:3]\n",
    "s[:] = 10  # s[:] is a view of s. Note the difference between s = 10 and s[:] = 10\n",
    "print(a)"
   ]
  },
  {
   "cell_type": "markdown",
   "metadata": {},
   "source": [
    "Basic Broadcasting:"
   ]
  },
  {
   "cell_type": "code",
   "execution_count": 49,
   "metadata": {},
   "outputs": [
    {
     "name": "stdout",
     "output_type": "stream",
     "text": [
      "[[11 22 33]\n",
      " [14 25 36]]\n",
      "[[11 12 13]\n",
      " [14 15 16]]\n",
      "[[[11 21 31]\n",
      "  [12 22 32]\n",
      "  [13 23 33]]\n",
      "\n",
      " [[14 24 34]\n",
      "  [15 25 35]\n",
      "  [16 26 36]]]\n"
     ]
    }
   ],
   "source": [
    "import numpy as np\n",
    "\n",
    "# Create a 2D array and a 1D array\n",
    "array_2d = np.array([[1, 2, 3], [4, 5, 6]])\n",
    "array_1d = np.array([10, 20, 30])\n",
    "\n",
    "# Broadcasting the 1D array to match the 2D array shape\n",
    "result = array_2d + array_1d\n",
    "print(result)\n",
    "\n",
    "#Broadcasting with Different Shapes:\n",
    "# Create a 2D array and a scalar\n",
    "array_2d = np.array([[1, 2, 3], [4, 5, 6]])\n",
    "scalar = 10\n",
    "\n",
    "# Broadcasting the scalar to match the 2D array shape\n",
    "result = array_2d + scalar\n",
    "print(result)\n",
    "\n",
    "#Broadcasting Across Higher Dimensions:\n",
    "# Create a 3D array and a 2D array\n",
    "array_3d = np.array([[[1], [2], [3]], [[4], [5], [6]]])\n",
    "array_2d = np.array([[10, 20, 30]])\n",
    "\n",
    "# Broadcasting the 2D array to match the 3D array shape\n",
    "result = array_3d + array_2d\n",
    "print(result)\n",
    "\n"
   ]
  },
  {
   "cell_type": "code",
   "execution_count": 53,
   "metadata": {},
   "outputs": [
    {
     "data": {
      "text/plain": [
       "(1, 6)"
      ]
     },
     "execution_count": 53,
     "metadata": {},
     "output_type": "execute_result"
    }
   ],
   "source": [
    "a = np.array([1, 2, 3, 4, 5, 6])\n",
    "a.shape\n",
    "a2 = a[np.newaxis, :]\n",
    "a2.shape\n",
    "\n"
   ]
  }
 ],
 "metadata": {
  "kernelspec": {
   "display_name": "Python 3",
   "language": "python",
   "name": "python3"
  },
  "language_info": {
   "codemirror_mode": {
    "name": "ipython",
    "version": 3
   },
   "file_extension": ".py",
   "mimetype": "text/x-python",
   "name": "python",
   "nbconvert_exporter": "python",
   "pygments_lexer": "ipython3",
   "version": "3.11.9"
  }
 },
 "nbformat": 4,
 "nbformat_minor": 2
}
